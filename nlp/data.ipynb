{
 "cells": [
  {
   "cell_type": "code",
   "execution_count": 1,
   "id": "96d19e95",
   "metadata": {},
   "outputs": [],
   "source": [
    "# email data at http://mlkd.csd.auth.gr/concept_drift.html"
   ]
  },
  {
   "cell_type": "code",
   "execution_count": 1,
   "id": "5f5b6260",
   "metadata": {},
   "outputs": [],
   "source": [
    "from skmultilearn.dataset import load_from_arff"
   ]
  },
  {
   "cell_type": "code",
   "execution_count": 2,
   "id": "52544b06",
   "metadata": {},
   "outputs": [],
   "source": [
    "file = '../data/email_data.arff'"
   ]
  },
  {
   "cell_type": "code",
   "execution_count": 3,
   "id": "5035d5b7",
   "metadata": {},
   "outputs": [],
   "source": [
    "X, y = load_from_arff(\n",
    "    file,\n",
    "    label_count=2,\n",
    "    label_location=\"end\",\n",
    "    load_sparse=True\n",
    ")"
   ]
  },
  {
   "cell_type": "code",
   "execution_count": 6,
   "id": "1183c96b",
   "metadata": {},
   "outputs": [
    {
     "data": {
      "text/plain": [
       "<1500x2 sparse matrix of type '<class 'numpy.int64'>'\n",
       "\twith 748 stored elements in List of Lists format>"
      ]
     },
     "execution_count": 6,
     "metadata": {},
     "output_type": "execute_result"
    }
   ],
   "source": [
    "y"
   ]
  },
  {
   "cell_type": "code",
   "execution_count": 13,
   "id": "bc2c5980",
   "metadata": {},
   "outputs": [
    {
     "data": {
      "text/plain": [
       "matrix([[0, 1],\n",
       "        [0, 0],\n",
       "        [0, 0],\n",
       "        ...,\n",
       "        [0, 1],\n",
       "        [0, 0],\n",
       "        [0, 0]])"
      ]
     },
     "execution_count": 13,
     "metadata": {},
     "output_type": "execute_result"
    }
   ],
   "source": [
    "y.todense()"
   ]
  },
  {
   "cell_type": "code",
   "execution_count": 14,
   "id": "e9cfa51a",
   "metadata": {},
   "outputs": [
    {
     "data": {
      "text/plain": [
       "(1500, 912)"
      ]
     },
     "execution_count": 14,
     "metadata": {},
     "output_type": "execute_result"
    }
   ],
   "source": [
    "X.todense().shape"
   ]
  },
  {
   "cell_type": "code",
   "execution_count": 18,
   "id": "00807d15",
   "metadata": {},
   "outputs": [
    {
     "data": {
      "text/plain": [
       "matrix([[0, 0, 0, ..., 1, 0, 0],\n",
       "        [0, 0, 0, ..., 1, 0, 0],\n",
       "        [0, 0, 0, ..., 1, 0, 0],\n",
       "        ...,\n",
       "        [0, 0, 0, ..., 0, 0, 0],\n",
       "        [0, 0, 0, ..., 0, 0, 0],\n",
       "        [0, 0, 0, ..., 1, 0, 0]])"
      ]
     },
     "execution_count": 18,
     "metadata": {},
     "output_type": "execute_result"
    }
   ],
   "source": [
    "X.todense()"
   ]
  },
  {
   "cell_type": "code",
   "execution_count": null,
   "id": "8bdf28a1",
   "metadata": {},
   "outputs": [],
   "source": []
  }
 ],
 "metadata": {
  "kernelspec": {
   "display_name": "Python 3",
   "language": "python",
   "name": "python3"
  },
  "language_info": {
   "codemirror_mode": {
    "name": "ipython",
    "version": 3
   },
   "file_extension": ".py",
   "mimetype": "text/x-python",
   "name": "python",
   "nbconvert_exporter": "python",
   "pygments_lexer": "ipython3",
   "version": "3.7.12"
  }
 },
 "nbformat": 4,
 "nbformat_minor": 5
}
